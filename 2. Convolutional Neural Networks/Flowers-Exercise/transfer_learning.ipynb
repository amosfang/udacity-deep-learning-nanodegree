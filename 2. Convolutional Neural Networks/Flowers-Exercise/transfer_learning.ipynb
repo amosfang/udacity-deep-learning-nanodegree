{
 "cells": [
  {
   "cell_type": "code",
   "execution_count": 1,
   "id": "266d8dd3",
   "metadata": {},
   "outputs": [
    {
     "name": "stdout",
     "output_type": "stream",
     "text": [
      "Defaulting to user installation because normal site-packages is not writeable\n",
      "Requirement already satisfied: matplotlib==3.4.3 in /opt/conda/lib/python3.7/site-packages (from -r requirements.txt (line 1)) (3.4.3)\n",
      "Requirement already satisfied: numpy==1.21.2 in /opt/conda/lib/python3.7/site-packages (from -r requirements.txt (line 2)) (1.21.2)\n",
      "Requirement already satisfied: pillow==7.0.0 in /opt/conda/lib/python3.7/site-packages (from -r requirements.txt (line 3)) (7.0.0)\n",
      "Requirement already satisfied: torch==1.11.0 in /opt/conda/lib/python3.7/site-packages (from -r requirements.txt (line 4)) (1.11.0)\n",
      "Collecting torchvision==0.12.0\n",
      "  Downloading torchvision-0.12.0-cp37-cp37m-manylinux1_x86_64.whl (21.0 MB)\n",
      "\u001b[K     |████████████████████████████████| 21.0 MB 4.9 MB/s eta 0:00:01\n",
      "\u001b[?25hCollecting tqdm==4.63.0\n",
      "  Downloading tqdm-4.63.0-py2.py3-none-any.whl (76 kB)\n",
      "\u001b[K     |████████████████████████████████| 76 kB 7.4 MB/s  eta 0:00:01\n",
      "\u001b[?25hCollecting ipywidgets==7.6.5\n",
      "  Downloading ipywidgets-7.6.5-py2.py3-none-any.whl (121 kB)\n",
      "\u001b[K     |████████████████████████████████| 121 kB 36.1 MB/s eta 0:00:01\n",
      "\u001b[?25hCollecting livelossplot==0.5.4\n",
      "  Downloading livelossplot-0.5.4-py3-none-any.whl (22 kB)\n",
      "Collecting timm==0.5.4\n",
      "  Downloading timm-0.5.4-py3-none-any.whl (431 kB)\n",
      "\u001b[K     |████████████████████████████████| 431 kB 34.6 MB/s eta 0:00:01\n",
      "\u001b[?25hRequirement already satisfied: cycler>=0.10 in /opt/conda/lib/python3.7/site-packages (from matplotlib==3.4.3->-r requirements.txt (line 1)) (0.10.0)\n",
      "Requirement already satisfied: pyparsing>=2.2.1 in /opt/conda/lib/python3.7/site-packages (from matplotlib==3.4.3->-r requirements.txt (line 1)) (2.4.6)\n",
      "Requirement already satisfied: python-dateutil>=2.7 in /opt/conda/lib/python3.7/site-packages (from matplotlib==3.4.3->-r requirements.txt (line 1)) (2.8.1)\n",
      "Requirement already satisfied: kiwisolver>=1.0.1 in /opt/conda/lib/python3.7/site-packages (from matplotlib==3.4.3->-r requirements.txt (line 1)) (1.1.0)\n",
      "Requirement already satisfied: typing-extensions in /opt/conda/lib/python3.7/site-packages (from torch==1.11.0->-r requirements.txt (line 4)) (3.7.4.1)\n",
      "Requirement already satisfied: requests in /opt/conda/lib/python3.7/site-packages (from torchvision==0.12.0->-r requirements.txt (line 5)) (2.23.0)\n",
      "Requirement already satisfied: ipykernel>=4.5.1 in /opt/conda/lib/python3.7/site-packages (from ipywidgets==7.6.5->-r requirements.txt (line 7)) (5.1.4)\n",
      "Collecting widgetsnbextension~=3.5.0\n",
      "  Downloading widgetsnbextension-3.5.2-py2.py3-none-any.whl (1.6 MB)\n",
      "\u001b[K     |████████████████████████████████| 1.6 MB 31.5 MB/s eta 0:00:01\n",
      "\u001b[?25hRequirement already satisfied: ipython-genutils~=0.2.0 in /opt/conda/lib/python3.7/site-packages (from ipywidgets==7.6.5->-r requirements.txt (line 7)) (0.2.0)\n",
      "Requirement already satisfied: nbformat>=4.2.0 in /opt/conda/lib/python3.7/site-packages (from ipywidgets==7.6.5->-r requirements.txt (line 7)) (5.0.4)\n",
      "Requirement already satisfied: traitlets>=4.3.1 in /opt/conda/lib/python3.7/site-packages (from ipywidgets==7.6.5->-r requirements.txt (line 7)) (4.3.3)\n",
      "Collecting jupyterlab-widgets>=1.0.0; python_version >= \"3.6\"\n",
      "  Downloading jupyterlab_widgets-3.0.7-py3-none-any.whl (198 kB)\n",
      "\u001b[K     |████████████████████████████████| 198 kB 40.7 MB/s eta 0:00:01\n",
      "\u001b[?25hRequirement already satisfied: ipython>=4.0.0; python_version >= \"3.3\" in /opt/conda/lib/python3.7/site-packages (from ipywidgets==7.6.5->-r requirements.txt (line 7)) (7.13.0)\n",
      "Collecting bokeh\n",
      "  Downloading bokeh-2.4.3-py3-none-any.whl (18.5 MB)\n",
      "\u001b[K     |████████████████████████████████| 18.5 MB 30.4 MB/s eta 0:00:01\n",
      "\u001b[?25hRequirement already satisfied: six in /opt/conda/lib/python3.7/site-packages (from cycler>=0.10->matplotlib==3.4.3->-r requirements.txt (line 1)) (1.16.0)\n",
      "Requirement already satisfied: setuptools in /opt/conda/lib/python3.7/site-packages (from kiwisolver>=1.0.1->matplotlib==3.4.3->-r requirements.txt (line 1)) (45.2.0.post20200209)\n",
      "Requirement already satisfied: urllib3!=1.25.0,!=1.25.1,<1.26,>=1.21.1 in /opt/conda/lib/python3.7/site-packages (from requests->torchvision==0.12.0->-r requirements.txt (line 5)) (1.25.7)\n",
      "Requirement already satisfied: idna<3,>=2.5 in /opt/conda/lib/python3.7/site-packages (from requests->torchvision==0.12.0->-r requirements.txt (line 5)) (2.9)\n",
      "Requirement already satisfied: chardet<4,>=3.0.2 in /opt/conda/lib/python3.7/site-packages (from requests->torchvision==0.12.0->-r requirements.txt (line 5)) (3.0.4)\n",
      "Requirement already satisfied: certifi>=2017.4.17 in /opt/conda/lib/python3.7/site-packages (from requests->torchvision==0.12.0->-r requirements.txt (line 5)) (2019.11.28)\n",
      "Requirement already satisfied: jupyter-client in /opt/conda/lib/python3.7/site-packages (from ipykernel>=4.5.1->ipywidgets==7.6.5->-r requirements.txt (line 7)) (6.0.0)\n",
      "Requirement already satisfied: tornado>=4.2 in /opt/conda/lib/python3.7/site-packages (from ipykernel>=4.5.1->ipywidgets==7.6.5->-r requirements.txt (line 7)) (5.1.1)\n",
      "Requirement already satisfied: notebook>=4.4.1 in /opt/conda/lib/python3.7/site-packages (from widgetsnbextension~=3.5.0->ipywidgets==7.6.5->-r requirements.txt (line 7)) (5.7.4)\n",
      "Requirement already satisfied: jsonschema!=2.5.0,>=2.4 in /opt/conda/lib/python3.7/site-packages (from nbformat>=4.2.0->ipywidgets==7.6.5->-r requirements.txt (line 7)) (3.2.0)\n",
      "Requirement already satisfied: jupyter-core in /opt/conda/lib/python3.7/site-packages (from nbformat>=4.2.0->ipywidgets==7.6.5->-r requirements.txt (line 7)) (4.6.3)\n",
      "Requirement already satisfied: decorator in /opt/conda/lib/python3.7/site-packages (from traitlets>=4.3.1->ipywidgets==7.6.5->-r requirements.txt (line 7)) (4.4.2)\n",
      "Requirement already satisfied: pexpect; sys_platform != \"win32\" in /opt/conda/lib/python3.7/site-packages (from ipython>=4.0.0; python_version >= \"3.3\"->ipywidgets==7.6.5->-r requirements.txt (line 7)) (4.8.0)\n",
      "Requirement already satisfied: backcall in /opt/conda/lib/python3.7/site-packages (from ipython>=4.0.0; python_version >= \"3.3\"->ipywidgets==7.6.5->-r requirements.txt (line 7)) (0.1.0)\n",
      "Requirement already satisfied: jedi>=0.10 in /opt/conda/lib/python3.7/site-packages (from ipython>=4.0.0; python_version >= \"3.3\"->ipywidgets==7.6.5->-r requirements.txt (line 7)) (0.16.0)\n",
      "Requirement already satisfied: pygments in /opt/conda/lib/python3.7/site-packages (from ipython>=4.0.0; python_version >= \"3.3\"->ipywidgets==7.6.5->-r requirements.txt (line 7)) (2.5.2)\n",
      "Requirement already satisfied: prompt-toolkit!=3.0.0,!=3.0.1,<3.1.0,>=2.0.0 in /opt/conda/lib/python3.7/site-packages (from ipython>=4.0.0; python_version >= \"3.3\"->ipywidgets==7.6.5->-r requirements.txt (line 7)) (3.0.3)\n",
      "Requirement already satisfied: pickleshare in /opt/conda/lib/python3.7/site-packages (from ipython>=4.0.0; python_version >= \"3.3\"->ipywidgets==7.6.5->-r requirements.txt (line 7)) (0.7.5)\n",
      "Requirement already satisfied: Jinja2>=2.9 in /opt/conda/lib/python3.7/site-packages (from bokeh->livelossplot==0.5.4->-r requirements.txt (line 8)) (2.11.1)\n",
      "Requirement already satisfied: packaging>=16.8 in /opt/conda/lib/python3.7/site-packages (from bokeh->livelossplot==0.5.4->-r requirements.txt (line 8)) (20.1)\n",
      "Requirement already satisfied: PyYAML>=3.10 in /opt/conda/lib/python3.7/site-packages (from bokeh->livelossplot==0.5.4->-r requirements.txt (line 8)) (5.3)\n",
      "Requirement already satisfied: pyzmq>=13 in /opt/conda/lib/python3.7/site-packages (from jupyter-client->ipykernel>=4.5.1->ipywidgets==7.6.5->-r requirements.txt (line 7)) (19.0.0)\n",
      "Requirement already satisfied: nbconvert in /opt/conda/lib/python3.7/site-packages (from notebook>=4.4.1->widgetsnbextension~=3.5.0->ipywidgets==7.6.5->-r requirements.txt (line 7)) (5.6.1)\n",
      "Requirement already satisfied: terminado>=0.8.1 in /opt/conda/lib/python3.7/site-packages (from notebook>=4.4.1->widgetsnbextension~=3.5.0->ipywidgets==7.6.5->-r requirements.txt (line 7)) (0.8.3)\n",
      "Requirement already satisfied: Send2Trash in /opt/conda/lib/python3.7/site-packages (from notebook>=4.4.1->widgetsnbextension~=3.5.0->ipywidgets==7.6.5->-r requirements.txt (line 7)) (1.5.0)\n",
      "Requirement already satisfied: prometheus-client in /opt/conda/lib/python3.7/site-packages (from notebook>=4.4.1->widgetsnbextension~=3.5.0->ipywidgets==7.6.5->-r requirements.txt (line 7)) (0.7.1)\n",
      "Requirement already satisfied: pyrsistent>=0.14.0 in /opt/conda/lib/python3.7/site-packages (from jsonschema!=2.5.0,>=2.4->nbformat>=4.2.0->ipywidgets==7.6.5->-r requirements.txt (line 7)) (0.15.7)\n",
      "Requirement already satisfied: importlib-metadata; python_version < \"3.8\" in /opt/conda/lib/python3.7/site-packages (from jsonschema!=2.5.0,>=2.4->nbformat>=4.2.0->ipywidgets==7.6.5->-r requirements.txt (line 7)) (1.5.0)\n"
     ]
    },
    {
     "name": "stdout",
     "output_type": "stream",
     "text": [
      "Requirement already satisfied: attrs>=17.4.0 in /opt/conda/lib/python3.7/site-packages (from jsonschema!=2.5.0,>=2.4->nbformat>=4.2.0->ipywidgets==7.6.5->-r requirements.txt (line 7)) (19.3.0)\n",
      "Requirement already satisfied: ptyprocess>=0.5 in /opt/conda/lib/python3.7/site-packages (from pexpect; sys_platform != \"win32\"->ipython>=4.0.0; python_version >= \"3.3\"->ipywidgets==7.6.5->-r requirements.txt (line 7)) (0.6.0)\n",
      "Requirement already satisfied: parso>=0.5.2 in /opt/conda/lib/python3.7/site-packages (from jedi>=0.10->ipython>=4.0.0; python_version >= \"3.3\"->ipywidgets==7.6.5->-r requirements.txt (line 7)) (0.6.1)\n",
      "Requirement already satisfied: wcwidth in /opt/conda/lib/python3.7/site-packages (from prompt-toolkit!=3.0.0,!=3.0.1,<3.1.0,>=2.0.0->ipython>=4.0.0; python_version >= \"3.3\"->ipywidgets==7.6.5->-r requirements.txt (line 7)) (0.1.8)\n",
      "Requirement already satisfied: MarkupSafe>=0.23 in /opt/conda/lib/python3.7/site-packages (from Jinja2>=2.9->bokeh->livelossplot==0.5.4->-r requirements.txt (line 8)) (1.1.1)\n",
      "Requirement already satisfied: entrypoints>=0.2.2 in /opt/conda/lib/python3.7/site-packages (from nbconvert->notebook>=4.4.1->widgetsnbextension~=3.5.0->ipywidgets==7.6.5->-r requirements.txt (line 7)) (0.3)\n",
      "Requirement already satisfied: testpath in /opt/conda/lib/python3.7/site-packages (from nbconvert->notebook>=4.4.1->widgetsnbextension~=3.5.0->ipywidgets==7.6.5->-r requirements.txt (line 7)) (0.4.4)\n",
      "Requirement already satisfied: bleach in /opt/conda/lib/python3.7/site-packages (from nbconvert->notebook>=4.4.1->widgetsnbextension~=3.5.0->ipywidgets==7.6.5->-r requirements.txt (line 7)) (3.1.1)\n",
      "Requirement already satisfied: defusedxml in /opt/conda/lib/python3.7/site-packages (from nbconvert->notebook>=4.4.1->widgetsnbextension~=3.5.0->ipywidgets==7.6.5->-r requirements.txt (line 7)) (0.6.0)\n",
      "Requirement already satisfied: mistune<2,>=0.8.1 in /opt/conda/lib/python3.7/site-packages (from nbconvert->notebook>=4.4.1->widgetsnbextension~=3.5.0->ipywidgets==7.6.5->-r requirements.txt (line 7)) (0.8.4)\n",
      "Requirement already satisfied: pandocfilters>=1.4.1 in /opt/conda/lib/python3.7/site-packages (from nbconvert->notebook>=4.4.1->widgetsnbextension~=3.5.0->ipywidgets==7.6.5->-r requirements.txt (line 7)) (1.4.2)\n",
      "Requirement already satisfied: zipp>=0.5 in /opt/conda/lib/python3.7/site-packages (from importlib-metadata; python_version < \"3.8\"->jsonschema!=2.5.0,>=2.4->nbformat>=4.2.0->ipywidgets==7.6.5->-r requirements.txt (line 7)) (3.0.0)\n",
      "Requirement already satisfied: webencodings in /opt/conda/lib/python3.7/site-packages (from bleach->nbconvert->notebook>=4.4.1->widgetsnbextension~=3.5.0->ipywidgets==7.6.5->-r requirements.txt (line 7)) (0.5.1)\n",
      "\u001b[31mERROR: bokeh 2.4.3 has requirement pillow>=7.1.0, but you'll have pillow 7.0.0 which is incompatible.\u001b[0m\n",
      "\u001b[31mERROR: bokeh 2.4.3 has requirement typing-extensions>=3.10.0, but you'll have typing-extensions 3.7.4.1 which is incompatible.\u001b[0m\n",
      "Installing collected packages: torchvision, tqdm, widgetsnbextension, jupyterlab-widgets, ipywidgets, bokeh, livelossplot, timm\n",
      "\u001b[33m  WARNING: The script tqdm is installed in '/root/.local/bin' which is not on PATH.\n",
      "  Consider adding this directory to PATH or, if you prefer to suppress this warning, use --no-warn-script-location.\u001b[0m\n",
      "\u001b[33m  WARNING: The script bokeh is installed in '/root/.local/bin' which is not on PATH.\n",
      "  Consider adding this directory to PATH or, if you prefer to suppress this warning, use --no-warn-script-location.\u001b[0m\n",
      "Successfully installed bokeh-2.4.3 ipywidgets-7.6.5 jupyterlab-widgets-3.0.7 livelossplot-0.5.4 timm-0.5.4 torchvision-0.12.0 tqdm-4.63.0 widgetsnbextension-3.5.2\n"
     ]
    }
   ],
   "source": [
    "# Install some dependencies\n",
    "!pip install -r requirements.txt"
   ]
  },
  {
   "cell_type": "code",
   "execution_count": 6,
   "id": "23160cdc",
   "metadata": {},
   "outputs": [
    {
     "name": "stdout",
     "output_type": "stream",
     "text": [
      "Defaulting to user installation because normal site-packages is not writeable\n",
      "Requirement already satisfied: livelossplot in /root/.local/lib/python3.7/site-packages (0.5.4)\n",
      "Requirement already satisfied: bokeh in /root/.local/lib/python3.7/site-packages (from livelossplot) (2.4.3)\n",
      "Requirement already satisfied: ipython in /opt/conda/lib/python3.7/site-packages (from livelossplot) (7.13.0)\n",
      "Requirement already satisfied: matplotlib in /opt/conda/lib/python3.7/site-packages (from livelossplot) (3.4.3)\n",
      "Requirement already satisfied: tornado>=5.1 in /opt/conda/lib/python3.7/site-packages (from bokeh->livelossplot) (5.1.1)\n",
      "Requirement already satisfied: numpy>=1.11.3 in /opt/conda/lib/python3.7/site-packages (from bokeh->livelossplot) (1.21.2)\n",
      "Requirement already satisfied: packaging>=16.8 in /opt/conda/lib/python3.7/site-packages (from bokeh->livelossplot) (20.1)\n",
      "Requirement already satisfied: Jinja2>=2.9 in /opt/conda/lib/python3.7/site-packages (from bokeh->livelossplot) (2.11.1)\n",
      "Requirement already satisfied: typing-extensions>=3.10.0 in /root/.local/lib/python3.7/site-packages (from bokeh->livelossplot) (4.5.0)\n",
      "Requirement already satisfied: pillow>=7.1.0 in /root/.local/lib/python3.7/site-packages (from bokeh->livelossplot) (9.5.0)\n",
      "Requirement already satisfied: PyYAML>=3.10 in /opt/conda/lib/python3.7/site-packages (from bokeh->livelossplot) (5.3)\n",
      "Requirement already satisfied: pickleshare in /opt/conda/lib/python3.7/site-packages (from ipython->livelossplot) (0.7.5)\n",
      "Requirement already satisfied: pygments in /opt/conda/lib/python3.7/site-packages (from ipython->livelossplot) (2.5.2)\n",
      "Requirement already satisfied: decorator in /opt/conda/lib/python3.7/site-packages (from ipython->livelossplot) (4.4.2)\n",
      "Requirement already satisfied: traitlets>=4.2 in /opt/conda/lib/python3.7/site-packages (from ipython->livelossplot) (4.3.3)\n",
      "Requirement already satisfied: pexpect; sys_platform != \"win32\" in /opt/conda/lib/python3.7/site-packages (from ipython->livelossplot) (4.8.0)\n",
      "Requirement already satisfied: prompt-toolkit!=3.0.0,!=3.0.1,<3.1.0,>=2.0.0 in /opt/conda/lib/python3.7/site-packages (from ipython->livelossplot) (3.0.3)\n",
      "Requirement already satisfied: setuptools>=18.5 in /opt/conda/lib/python3.7/site-packages (from ipython->livelossplot) (45.2.0.post20200209)\n",
      "Requirement already satisfied: backcall in /opt/conda/lib/python3.7/site-packages (from ipython->livelossplot) (0.1.0)\n",
      "Requirement already satisfied: jedi>=0.10 in /opt/conda/lib/python3.7/site-packages (from ipython->livelossplot) (0.16.0)\n",
      "Requirement already satisfied: python-dateutil>=2.7 in /opt/conda/lib/python3.7/site-packages (from matplotlib->livelossplot) (2.8.1)\n",
      "Requirement already satisfied: pyparsing>=2.2.1 in /opt/conda/lib/python3.7/site-packages (from matplotlib->livelossplot) (2.4.6)\n",
      "Requirement already satisfied: kiwisolver>=1.0.1 in /opt/conda/lib/python3.7/site-packages (from matplotlib->livelossplot) (1.1.0)\n",
      "Requirement already satisfied: cycler>=0.10 in /opt/conda/lib/python3.7/site-packages (from matplotlib->livelossplot) (0.10.0)\n",
      "Requirement already satisfied: six in /opt/conda/lib/python3.7/site-packages (from packaging>=16.8->bokeh->livelossplot) (1.16.0)\n",
      "Requirement already satisfied: MarkupSafe>=0.23 in /opt/conda/lib/python3.7/site-packages (from Jinja2>=2.9->bokeh->livelossplot) (1.1.1)\n",
      "Requirement already satisfied: ipython-genutils in /opt/conda/lib/python3.7/site-packages (from traitlets>=4.2->ipython->livelossplot) (0.2.0)\n",
      "Requirement already satisfied: ptyprocess>=0.5 in /opt/conda/lib/python3.7/site-packages (from pexpect; sys_platform != \"win32\"->ipython->livelossplot) (0.6.0)\n",
      "Requirement already satisfied: wcwidth in /opt/conda/lib/python3.7/site-packages (from prompt-toolkit!=3.0.0,!=3.0.1,<3.1.0,>=2.0.0->ipython->livelossplot) (0.1.8)\n",
      "Requirement already satisfied: parso>=0.5.2 in /opt/conda/lib/python3.7/site-packages (from jedi>=0.10->ipython->livelossplot) (0.6.1)\n"
     ]
    }
   ],
   "source": [
    "!pip install livelossplot"
   ]
  },
  {
   "cell_type": "markdown",
   "id": "9e263805",
   "metadata": {},
   "source": [
    "> **NOTE: Wait for the previous cell to complete, then restart the kernel before running the next cell. This ensures that the dependencies we have just installed will work. Otherwise you may receive an error when running imports in the next cell!**"
   ]
  },
  {
   "cell_type": "markdown",
   "id": "b6f8645a",
   "metadata": {},
   "source": [
    "# Transfer Learning\n",
    "\n",
    "In many real-world situations you will not want to train a whole convolutional network from scratch, unless you happen to have a very large dataset and a lot of compute resources. Training a modern CNN on a dataset like ImageNet takes days or weeks on multiple GPUs. Instead, in most cases you will be using Transfer Learning.\n",
    "\n",
    "<center><img src=\"notebook_ims/fine_tune_quadrants.png\" width=\"80%\"></center>\n",
    "\n",
    "In this notebook, you'll be modeling a small dataset of fewer than 5000 natural images. As the diagram above suggests, in a case like this you can use the pre-trained network as a feature extractor and substitute the head. Since 5000 is small but not very small, you can also try to squeeze some more performance by fine-tuning the rest of the network. You will need to use a learning rate small enough so you do not destroy the filters that the network has learned on ImageNet.\n",
    "\n",
    "In this exercise you will load a pre-trained ResNet model, remove the head, and substitute it with your own head. Then you will fix the feature extractor part and train the head. It is relatively easy to approach an accuracy of around 90% by using this transfer learning technique! Then you will fine-tune the rest of the network. Be careful in using a small learning rate! Experimentation usually is needed to find the right learning rate. Here we will use 1/100th of the initial learning rate. \n",
    "\n",
    "Let's start by importing a few modules and functions:"
   ]
  },
  {
   "cell_type": "code",
   "execution_count": 7,
   "id": "24d7b017",
   "metadata": {},
   "outputs": [
    {
     "ename": "ModuleNotFoundError",
     "evalue": "No module named 'livelossplot'",
     "output_type": "error",
     "traceback": [
      "\u001b[0;31m---------------------------------------------------------------------------\u001b[0m",
      "\u001b[0;31mModuleNotFoundError\u001b[0m                       Traceback (most recent call last)",
      "\u001b[0;32m<ipython-input-7-0a652adfb2ce>\u001b[0m in \u001b[0;36m<module>\u001b[0;34m\u001b[0m\n\u001b[1;32m      4\u001b[0m \u001b[0;32mimport\u001b[0m \u001b[0mtorch\u001b[0m\u001b[0;34m.\u001b[0m\u001b[0moptim\u001b[0m\u001b[0;34m\u001b[0m\u001b[0;34m\u001b[0m\u001b[0m\n\u001b[1;32m      5\u001b[0m \u001b[0;32mfrom\u001b[0m \u001b[0mtorch\u001b[0m \u001b[0;32mimport\u001b[0m \u001b[0mnn\u001b[0m\u001b[0;34m\u001b[0m\u001b[0;34m\u001b[0m\u001b[0m\n\u001b[0;32m----> 6\u001b[0;31m \u001b[0;32mfrom\u001b[0m \u001b[0mhelpers\u001b[0m \u001b[0;32mimport\u001b[0m \u001b[0;34m*\u001b[0m\u001b[0;34m\u001b[0m\u001b[0;34m\u001b[0m\u001b[0m\n\u001b[0m\u001b[1;32m      7\u001b[0m \u001b[0;32mimport\u001b[0m \u001b[0mtimm\u001b[0m\u001b[0;34m\u001b[0m\u001b[0;34m\u001b[0m\u001b[0m\n\u001b[1;32m      8\u001b[0m \u001b[0;32mfrom\u001b[0m \u001b[0mlr_finder\u001b[0m \u001b[0;32mimport\u001b[0m \u001b[0mlr_finder\u001b[0m\u001b[0;34m\u001b[0m\u001b[0;34m\u001b[0m\u001b[0m\n",
      "\u001b[0;32m/home/workspace/helpers.py\u001b[0m in \u001b[0;36m<module>\u001b[0;34m\u001b[0m\n\u001b[1;32m      4\u001b[0m \u001b[0;32mimport\u001b[0m \u001b[0mseaborn\u001b[0m \u001b[0;32mas\u001b[0m \u001b[0msns\u001b[0m\u001b[0;34m\u001b[0m\u001b[0;34m\u001b[0m\u001b[0m\n\u001b[1;32m      5\u001b[0m \u001b[0;32mimport\u001b[0m \u001b[0mtorch\u001b[0m\u001b[0;34m\u001b[0m\u001b[0;34m\u001b[0m\u001b[0m\n\u001b[0;32m----> 6\u001b[0;31m \u001b[0;32mfrom\u001b[0m \u001b[0mlivelossplot\u001b[0m \u001b[0;32mimport\u001b[0m \u001b[0mPlotLosses\u001b[0m\u001b[0;34m\u001b[0m\u001b[0;34m\u001b[0m\u001b[0m\n\u001b[0m\u001b[1;32m      7\u001b[0m \u001b[0;32mfrom\u001b[0m \u001b[0mlivelossplot\u001b[0m\u001b[0;34m.\u001b[0m\u001b[0moutputs\u001b[0m \u001b[0;32mimport\u001b[0m \u001b[0mMatplotlibPlot\u001b[0m\u001b[0;34m\u001b[0m\u001b[0;34m\u001b[0m\u001b[0m\n\u001b[1;32m      8\u001b[0m \u001b[0;32mfrom\u001b[0m \u001b[0mtorch\u001b[0m\u001b[0;34m.\u001b[0m\u001b[0mutils\u001b[0m\u001b[0;34m.\u001b[0m\u001b[0mdata\u001b[0m\u001b[0;34m.\u001b[0m\u001b[0msampler\u001b[0m \u001b[0;32mimport\u001b[0m \u001b[0mSubsetRandomSampler\u001b[0m\u001b[0;34m\u001b[0m\u001b[0;34m\u001b[0m\u001b[0m\n",
      "\u001b[0;31mModuleNotFoundError\u001b[0m: No module named 'livelossplot'"
     ]
    }
   ],
   "source": [
    "import torchvision.datasets\n",
    "import torchvision.transforms as T\n",
    "import torchvision.models\n",
    "import torch.optim\n",
    "from torch import nn\n",
    "from helpers import *\n",
    "import timm\n",
    "from lr_finder import lr_finder\n",
    "import glob\n",
    "import matplotlib.pyplot as plt"
   ]
  },
  {
   "cell_type": "markdown",
   "id": "cdfc9c1a",
   "metadata": {},
   "source": [
    "Now let's create the data loaders. \n",
    "\n",
    "When the dataset is small it is difficult to split the dataset 3 ways (train, validation, and test) because you might not have enough data to train, validate, or test. Instead, you can use k-fold cross-validation: you divide the dataset in k parts, then you repeat the training k times, each time taking k-1 parts as your training dataset, and the remaining k-th part as your validation. You record your metrics for each iteration,  then you use the average performance as your metric.\n",
    "\n",
    "However, to make things faster for this exercise, we will execute only one run of cross-validation among the k runs we should do in reality.\n",
    "\n",
    "For simplicity we provide the code in the `helpers.py` file; feel free to look into it to see how the data is loaded. Note that the first time the code will compute the mean and std of the dataset, to be used in the `Normalize` transform in the data loaders (see the code in `helpers.py` for details):"
   ]
  },
  {
   "cell_type": "code",
   "execution_count": 8,
   "id": "b0754fbb",
   "metadata": {},
   "outputs": [
    {
     "ename": "NameError",
     "evalue": "name 'get_data_loaders' is not defined",
     "output_type": "error",
     "traceback": [
      "\u001b[0;31m---------------------------------------------------------------------------\u001b[0m",
      "\u001b[0;31mNameError\u001b[0m                                 Traceback (most recent call last)",
      "\u001b[0;32m<ipython-input-8-b855df72ab48>\u001b[0m in \u001b[0;36m<module>\u001b[0;34m\u001b[0m\n\u001b[0;32m----> 1\u001b[0;31m \u001b[0mdata_loaders\u001b[0m \u001b[0;34m=\u001b[0m \u001b[0mget_data_loaders\u001b[0m\u001b[0;34m(\u001b[0m\u001b[0mbatch_size\u001b[0m\u001b[0;34m=\u001b[0m\u001b[0;36m32\u001b[0m\u001b[0;34m,\u001b[0m \u001b[0mrand_augment_magnitude\u001b[0m\u001b[0;34m=\u001b[0m\u001b[0;36m15\u001b[0m\u001b[0;34m)\u001b[0m\u001b[0;34m\u001b[0m\u001b[0;34m\u001b[0m\u001b[0m\n\u001b[0m",
      "\u001b[0;31mNameError\u001b[0m: name 'get_data_loaders' is not defined"
     ]
    }
   ],
   "source": [
    "data_loaders = get_data_loaders(batch_size=32, rand_augment_magnitude=15)"
   ]
  },
  {
   "cell_type": "code",
   "execution_count": null,
   "id": "9e6fc00a",
   "metadata": {},
   "outputs": [],
   "source": [
    "classes = [\"daisy\", \"tulip\", \"dandelion\", \"sunflower\", \"rose\"]"
   ]
  },
  {
   "cell_type": "markdown",
   "id": "8c5f2923",
   "metadata": {},
   "source": [
    "# Create the model and substitute the head\n",
    "Let's now load a pretrained model and substitute its head. Let's use a `resnet50` from `torchvision` and substitute its head with a fully-connected layer (`Linear`) with the right input and output dimension:"
   ]
  },
  {
   "cell_type": "code",
   "execution_count": null,
   "id": "7ceb8ae1",
   "metadata": {},
   "outputs": [],
   "source": [
    "# Load a resnet50 from torchvision\n",
    "model =  # YOUR CODE HERE. Remember to use pretrained=True\n",
    "\n",
    "n_classes = len(classes)\n",
    "n_inputs = model.fc.in_features\n",
    "\n",
    "# Add a new linear layer in place of the existing one\n",
    "# YOUR CODE HERE"
   ]
  },
  {
   "cell_type": "markdown",
   "id": "9f2edcf4",
   "metadata": {},
   "source": [
    "We could have done the same by using TIMM:"
   ]
  },
  {
   "cell_type": "code",
   "execution_count": null,
   "id": "b432690d",
   "metadata": {},
   "outputs": [],
   "source": [
    "# We can also use TIMM to get a pre-trained model\n",
    "# model = timm.create_model(\"resnet18\", pretrained=True, num_classes=n_classes)"
   ]
  },
  {
   "cell_type": "markdown",
   "id": "8c2037c3",
   "metadata": {},
   "source": [
    "## Freeze the backbone and thaw the head\n",
    "Now we need to freeze all layers except the one we just added. Let's keep track of the parameters we are freezing so we will be able to free them later:"
   ]
  },
  {
   "cell_type": "code",
   "execution_count": null,
   "id": "32a5beff",
   "metadata": {},
   "outputs": [],
   "source": [
    "frozen_parameters = []\n",
    "\n",
    "for p in model.parameters():\n",
    "    # Freeze only parameters that are not already frozen\n",
    "    # (if any)\n",
    "    if p.requires_grad:\n",
    "        # Freeze this parameter\n",
    "        \n",
    "        # YOUR CODE HERE\n",
    "        \n",
    "        frozen_parameters.append(p)\n",
    "\n",
    "print(f\"Froze {len(frozen_parameters)} groups of parameters\")\n",
    "\n",
    "# Now let's thaw the parameters of the head we have\n",
    "# added\n",
    "for p in model.fc.parameters():\n",
    "    # Thaw this parameter\n",
    "    # YOUR CODE HERE"
   ]
  },
  {
   "cell_type": "markdown",
   "id": "a68b716b",
   "metadata": {},
   "source": [
    "## Train\n",
    "Now we can train our model. We start with the usual learning rate finder:"
   ]
  },
  {
   "cell_type": "code",
   "execution_count": null,
   "id": "cc54da0e",
   "metadata": {},
   "outputs": [],
   "source": [
    "loss = nn.CrossEntropyLoss()"
   ]
  },
  {
   "cell_type": "code",
   "execution_count": null,
   "id": "2578a102",
   "metadata": {},
   "outputs": [],
   "source": [
    "losses = lr_finder(1e-5, 0.1, 100, loss, model, data_loaders)"
   ]
  },
  {
   "cell_type": "code",
   "execution_count": null,
   "id": "3370428f",
   "metadata": {},
   "outputs": [],
   "source": [
    "_ = plt.plot(losses.keys(), losses.values())\n",
    "_ = plt.xscale(\"log\")\n",
    "\n",
    "# You might need to adjust this to cover the right\n",
    "# portion of the y axis to better see the decrease\n",
    "# in the loss before it shoots up again\n",
    "_ = plt.ylim([1.57, 1.75])"
   ]
  },
  {
   "cell_type": "markdown",
   "id": "58ea9b6b",
   "metadata": {},
   "source": [
    "Looks like a good learning rate is 0.005. Let's train first the head for a few epochs, to bring its weights (that right now are randomly initialized) to a place where they interact well with the feature extraction part:"
   ]
  },
  {
   "cell_type": "code",
   "execution_count": null,
   "id": "243e9057",
   "metadata": {},
   "outputs": [],
   "source": [
    "n_epochs = 5\n",
    "lr = 0.005\n",
    "\n",
    "# Create an Adam optimizer that uses the learning rate in the\n",
    "# variable lr\n",
    "optimizer = # YOUR CODE HERE\n",
    "\n",
    "optimize(\n",
    "    data_loaders, \n",
    "    model, \n",
    "    optimizer, \n",
    "    loss, \n",
    "    n_epochs, \n",
    "    'initial.pt', \n",
    "    interactive_tracking=True\n",
    ")"
   ]
  },
  {
   "cell_type": "code",
   "execution_count": null,
   "id": "71a379ca",
   "metadata": {},
   "outputs": [],
   "source": [
    "_ = one_epoch_test(data_loaders['valid'], model, loss)"
   ]
  },
  {
   "cell_type": "markdown",
   "id": "a21214cb",
   "metadata": {},
   "source": [
    "Just by training the new head for a few epochs we reached already a very good performance. Now let's unfreeze the parameters we have frozen before:"
   ]
  },
  {
   "cell_type": "code",
   "execution_count": null,
   "id": "7f14f646",
   "metadata": {},
   "outputs": [],
   "source": [
    "# Thaw parameters we had frozen before\n",
    "for p in frozen_parameters:\n",
    "    p.requires_grad = True"
   ]
  },
  {
   "cell_type": "markdown",
   "id": "0bbed824",
   "metadata": {},
   "source": [
    "and let's fine-tune the model. Remember to use a learning rate that is much smaller than what we used before. This is to avoid getting large steps, that would destroy the advantage of using a pre-trained network. For example, you might use a learning rate 100 times smaller than what we used before:"
   ]
  },
  {
   "cell_type": "code",
   "execution_count": null,
   "id": "0a4c5356",
   "metadata": {},
   "outputs": [],
   "source": [
    "n_epochs = 10\n",
    "lr = # YOUR CODE HERE\n",
    "\n",
    "optimizer = torch.optim.Adam(model.parameters(), lr)\n",
    "\n",
    "optimize(\n",
    "    data_loaders,\n",
    "    model,\n",
    "    optimizer,\n",
    "    loss,\n",
    "    n_epochs,\n",
    "    \"best.pt\",\n",
    "    interactive_tracking=True,\n",
    ")"
   ]
  },
  {
   "cell_type": "code",
   "execution_count": null,
   "id": "33de0b99",
   "metadata": {},
   "outputs": [],
   "source": [
    "_ = one_epoch_test(data_loaders['valid'], model, loss)"
   ]
  },
  {
   "cell_type": "markdown",
   "id": "66a86334",
   "metadata": {},
   "source": [
    "With fine-tuning we have significantly increased our performance to 95%! \n",
    "\n",
    "Now let's see what would happen if we train from scratch. \n",
    "\n",
    "The following code does just that. We have already executed it because it takes a long time. As you can see, despite training for 10x more epochs than when using transfer learning, our performance is significantly worse!\n",
    "\n",
    "Can you explain why?"
   ]
  },
  {
   "cell_type": "code",
   "execution_count": null,
   "id": "bc4a4aaa",
   "metadata": {},
   "outputs": [],
   "source": [
    "# Let's train from scratch\n",
    "model = torchvision.models.resnet50(pretrained=False)\n",
    "n_classes = len(classes)\n",
    "n_inputs = model.fc.in_features\n",
    "model.fc = nn.Linear(n_inputs, n_classes)"
   ]
  },
  {
   "cell_type": "code",
   "execution_count": null,
   "id": "ee601fda",
   "metadata": {},
   "outputs": [],
   "source": [
    "loss = nn.CrossEntropyLoss()"
   ]
  },
  {
   "cell_type": "code",
   "execution_count": null,
   "id": "04e52e6c",
   "metadata": {},
   "outputs": [],
   "source": [
    "losses = lr_finder(1e-5, 0.2, 100, loss, model, data_loaders)"
   ]
  },
  {
   "cell_type": "code",
   "execution_count": null,
   "id": "c05d1b53",
   "metadata": {},
   "outputs": [],
   "source": [
    "_ = plt.plot(losses.keys(), losses.values())\n",
    "_ = plt.xscale(\"log\")\n",
    "_ = plt.ylim([1.63, 1.7])"
   ]
  },
  {
   "cell_type": "code",
   "execution_count": null,
   "id": "a8a1d935",
   "metadata": {},
   "outputs": [],
   "source": [
    "optimize(data_loaders, model, torch.optim.Adam(model.parameters(), 0.001), loss, 100, 'best_scratch.pt', interactive_tracking=True)"
   ]
  },
  {
   "cell_type": "code",
   "execution_count": null,
   "id": "70a1e7c4",
   "metadata": {},
   "outputs": [],
   "source": [
    "_ = one_epoch_test(data_loaders['valid'], model, loss)"
   ]
  },
  {
   "cell_type": "code",
   "execution_count": null,
   "id": "ad97ff4f",
   "metadata": {},
   "outputs": [],
   "source": []
  }
 ],
 "metadata": {
  "kernelspec": {
   "display_name": "Python 3 (ipykernel)",
   "language": "python",
   "name": "python3"
  },
  "language_info": {
   "codemirror_mode": {
    "name": "ipython",
    "version": 3
   },
   "file_extension": ".py",
   "mimetype": "text/x-python",
   "name": "python",
   "nbconvert_exporter": "python",
   "pygments_lexer": "ipython3",
   "version": "3.9.13"
  },
  "widgets": {
   "application/vnd.jupyter.widget-state+json": {
    "state": {},
    "version_major": 2,
    "version_minor": 0
   }
  }
 },
 "nbformat": 4,
 "nbformat_minor": 5
}
